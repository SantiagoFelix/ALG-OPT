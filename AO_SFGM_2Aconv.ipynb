{
 "cells": [
  {
   "cell_type": "markdown",
   "id": "9ae5902f",
   "metadata": {},
   "source": [
    "# Algoritmos de optimización - Problema del doblaje\n",
    "\n",
    "# Santiago Félix García Marín, 2a Convocatoria 2021\n",
    "\n",
    "Url: https://github.com/\n",
    "\n",
    "Dirección de este notebook: https://github.com/SantiagoFelix/ALG-OPT/blob/main/AO_SFGM_2Aconv.ipynb\n",
    "\n",
    "Direccion del fichero de datos: https://docs.google.com/spreadsheets/d/1Ipn6IrbQP4ax8zOnivdBIw2lN0JISkJG4fXndYd27U0/edit#gid=0"
   ]
  },
  {
   "cell_type": "markdown",
   "id": "79fffff2",
   "metadata": {},
   "source": [
    "## Definición del problema"
   ]
  },
  {
   "cell_type": "markdown",
   "id": "2e63bd3c",
   "metadata": {},
   "source": [
    "Problema 1. Organizar sesiones de doblaje • Se precisa coordinar el doblaje de una película. Los actores del doblaje deben coincidir en las tomas en las que sus personajes aparecen juntos en las diferentes tomas. Los actores de doblaje cobran todos la misma cantidad por cada día que deben desplazarse hasta el estudio de grabación independientemente del número de tomas que se graben. No es posible grabar más de 6 tomas por día. El objetivo es planificar las sesiones por día de manera que el gasto por los servicios de los actores de doblaje sea el menor posible. Número de actores:10 Número de tomas:30 Actores/Tomas:1 indica que el actor participa en la toma, 0 en caso contrario."
   ]
  },
  {
   "cell_type": "markdown",
   "id": "1c75e900",
   "metadata": {},
   "source": [
    "## (*)¿Cuantas posibilidades hay sin tener en cuenta las restricciones?"
   ]
  },
  {
   "cell_type": "markdown",
   "id": "e4ab529d",
   "metadata": {},
   "source": [
    "Sin ninguna restricción, para doblar 30 escenas, se podría hacer:\n",
    "\n",
    "Desde que vayan un solo día los 10 actores y hagan las 30 tomas (coste=10)\n",
    "    \n",
    "hasta que hagan una toma por dia con solo los indispensables para cada toma; \n",
    "    (en este caso, coste = sumatorio de 1 a 30 dias del numero de dobladores de ese dia (coste = 94)\n",
    "\n",
    "En todo caso, hay que ordenar las 30 escenas, lo que supone: \n",
    "30! = 2,652528598121911e+32 posibilidades."
   ]
  },
  {
   "cell_type": "markdown",
   "id": "a5a370aa",
   "metadata": {
    "id": "3_-exlrTgLd-"
   },
   "source": [
    "## ¿Cuantas posibilidades hay teniendo en cuenta todas las restricciones."
   ]
  },
  {
   "cell_type": "markdown",
   "id": "345d5aef",
   "metadata": {},
   "source": [
    "Teniendo en cuenta la restricción de máximo 6 tomas al dia:\n",
    "    \n",
    "El máximo de ocupación de estudios posible seguiría siendo de 30 dias y coste 94, \n",
    "\n",
    "y el mínimo de ocupación de estudios sería de 30/6 = 5 días, con costes a analizar:"
   ]
  },
  {
   "cell_type": "markdown",
   "id": "d2bf71a0",
   "metadata": {},
   "source": [
    "Por ejemplo: Si los 10 actores fueran los 5 días, se podía doblar a coste = 50 pero ésta sería la cota superior del coste, porque para cada día, habría actores convocados innecesariamente\n",
    "\n",
    "Esto obliga a calcular los costes para las diferentes combinaciones de escenas en cada día.\n",
    "    \n",
    "Si restringimos además, que el numero de escenas dobladas en un dia sea exactamente el máximo (6):\n",
    "       \n",
    "Las posibles combinaciones de 30 escenas, sin repetición, tomadas de seis en seis, (dia 1), son: 593775\n",
    "\n",
    "Las posibles combinaciones de 24 escenas, sin repetición, tomadas de seis en seis, (dia 2), son: 134596\n",
    "\n",
    "Las posibles combinaciones de 18 escenas, sin repetición, tomadas de seis en seis, (dia 3), son: 18564\n",
    "\n",
    "Las posibles combinaciones de 12 escenas, sin repetición, tomadas de seis en seis, (dia 4), son: 924\n",
    "\n",
    "Las posibles combinaciones de 6 escenas, sin repetición, tomadas de seis en seis, son: 1\n",
    "    \n",
    "Nótese que, en cualquier caso, para cada día, el orden de las escenas en ese dia no afecta al coste (los dobladores serán los mismos), y el número de posibilidades analizadas será la suma de de las de todas las etapas.\n",
    "\n",
    "Para 6 escenas/dia totaliza: 593775 + 134596 + 18564 + 924 + 1 = 747860 combinaciones de escenas, cada una con su coste. Es decir, extraordinariamente ventajoso frente a 30!"
   ]
  },
  {
   "cell_type": "markdown",
   "id": "119fe3e7",
   "metadata": {
    "id": "dzynfVJahHoY"
   },
   "source": [
    "## Modelo para el espacio de soluciones\n",
    "## (*) ¿Cual es la estructura de datos que mejor se adapta al problema? Argumentalo.(Es posible que hayas elegido una al principio y veas la necesidad de cambiar, argumentalo)\n"
   ]
  },
  {
   "cell_type": "markdown",
   "id": "47f63454",
   "metadata": {},
   "source": [
    "Se trata de obtener finalmente una secuancia de tomas (lo que corresponde a un array, o varios, y un entero que será el coste_total).\n",
    "\n",
    "Partimos de un fichero csv que convertiremos en una estructura pandas DataFrame, a partir de la cual operaré también a nivel array con numpy o/y pandas.\n",
    "\n",
    "A primera vista, parecía adecuado un abordaje matricial, pero al ir analizando el problema se vió más abordable con np.arrays.\n"
   ]
  },
  {
   "cell_type": "markdown",
   "id": "d6fe0e9f",
   "metadata": {
    "id": "7Z9U2W7bi-XS"
   },
   "source": [
    "## Según el modelo para el espacio de soluciones\n",
    "\n",
    "### (*)¿Cual es la función objetivo?\n",
    "### (*)¿Es un problema de maximización o minimización?"
   ]
  },
  {
   "cell_type": "markdown",
   "id": "8f0fad6c",
   "metadata": {},
   "source": [
    "Función objetivo:\n",
    "\n",
    "Este problema trata de minimizar un coste que es el sumatorio para cada dia empleado, del numero de dobladores empleados en ese día, lo que se relaciona con minimizar las veces que un doblador acude al estudio, existiendo la restricción de que el estudio solo puede hacer 6 tomas al día como máximo, y que graban por grupos segun lo pide la escena.\n",
    "\n",
    "Así, si todos (10) estuvieran presentes en las 30 tomas, se optimizaría el tiempo de uso del estudio, y conllevaría 30/6=5 días seguidos, con un coste de 10x5=50 u.m. que, seguramente, no es óptimo. Por otra parte, no se trata de optimizar el uso del estudio (tiene coste cero independientemente de los dias que se use) sino del coste en dobladores.\n",
    "\n",
    "Cada escena se graba en grupo de (por inspección del caso) entre 2 a 5 dobladores, de modo que cada día (grupo de escenas) se requerirán entre 2 y quizá hasta 10 dobladores potenciales, dependiendo de la agrupacion de las escenas de ese día.\n",
    "\n",
    "Así que convendría combinar los dobladores de modo que se optimicen sus solapamientos, respetando las 6 tomas diarias como máximo, para que el coste total sea mínimo. \n",
    "\n"
   ]
  },
  {
   "cell_type": "markdown",
   "id": "e6f8e0c1",
   "metadata": {},
   "source": [
    "## Diseña un algoritmo para resolver el problema por fuerza bruta. "
   ]
  },
  {
   "cell_type": "code",
   "execution_count": 1,
   "id": "0264ee4e",
   "metadata": {},
   "outputs": [],
   "source": [
    "# Fuerza bruta supone recorrer todas las posibles combinaciones \n",
    "# y de todas ellas quedarnos con la de mínimo coste global\n",
    "\n",
    "# minimo=99999999\n",
    "# mejores_combinaciones = []  #porque puede haber mas de una que consiga el mismo resultado optimo\n",
    "# Para cada una de las combinaciones de 30 elementos sin repetición\n",
    "#    coste_combinacion = 0\n",
    "#    Dividimos la combinación en n bloques   #n=6\n",
    "#    Para cada bloque, calculamos la suma de costes de los dobladores\n",
    "#             coste_combinación += coste_bloque\n",
    "#    if coste_combinacion < minimo\n",
    "#            minimo = coste_combinación\n",
    "#            mejor combinación = combinacion\n",
    "#            añadir (mejor_combinacion, minimo) a mejores_combinaciones\n",
    "# print (item con minimo campo mínimo de entre mejores_combinaciones)"
   ]
  },
  {
   "cell_type": "markdown",
   "id": "4120fd5c",
   "metadata": {},
   "source": [
    "\n",
    "## Calcula la complejidad del algoritmo por fuerza bruta"
   ]
  },
  {
   "cell_type": "markdown",
   "id": "cab02e4f",
   "metadata": {},
   "source": [
    "Calcular una a una todas las 30! combinaciones supondría 2,652528598121911e+32 cálculos (30!)\n",
    "Su complejidad será del orden O(30!)\n",
    "\n",
    "Pero si restringimos a n (n=6) escenas por dia supone igualmente recorrer todas las posibles escenas (30!) con cómputo del coste cada n (n=6)."
   ]
  },
  {
   "cell_type": "markdown",
   "id": "b6d9b618",
   "metadata": {},
   "source": [
    "## (*)Diseña un algoritmo que mejore la complejidad del algortimo por fuerza bruta. \n"
   ]
  },
  {
   "cell_type": "markdown",
   "id": "f57df7f6",
   "metadata": {},
   "source": [
    "La mejor solución siempre se obtendrá por fuerza bruta, pero con un coste computacional tan elevadísimo como 30!, es inviable. \n",
    "\n",
    "Como alternativa, yo usaré un algoritmo voraz, aplicado por etapas; es decir: una heurística consistente en elegir la opción óptima en cada paso local con la esperanza de llegar a una solución general óptima. \n",
    "\n",
    "Vendría a ser un equivalente por trozos del algoritmo de Prim, o de \"Minimum Spanning Tree\", donde: escena = nodo, coste de ir de una escena a otra = arista. Grafo dirigido, con n=6 vértices y n-1=5 aristas. Porque evaluamos de seis en seis.\n",
    "\n",
    "Cada escena supone un estado o un número de dobladores (que llamaré coste de esa escena). \n",
    "El coste del dia, será igual al número de dobladores diferentes que se han empleado para esa secuencia de tomas (ese dia).\n",
    "\n",
    "Aquí hago la simplificación de que todos los dobladores cobran lo mismo por escena doblada. De modo que el coste monetario será el coste (número) de dobladores multiplicado por su salario por convocatoria. Para simplificar, pongamos que 1 unidad monetaria.\n",
    "\n",
    "El coste total, será la suma de los costes de cada dia.\n",
    "\n",
    "La diferencia de costes entre escenas será el número de dobladores diferentes que se han tenido que añadir entre una escena y otra para completar ambas.\n",
    "\n",
    "Como, en cuanto ha hecho sus escenas de ese dia, el doblador ya puede irse, ya ha generado su coste, lo más conveniente parece ser no reducir, sino ir incrementando el número de dobladores según se vayan necesitando para nuevas escenas.\n",
    "\n",
    "Lo que haré será calcular, desde el estado cero dobladores, el coste por dia de todas los posibles combinaciones del día, tomando para el primer dia la combinación de menor coste (minimización de los dobladores añadidos), e ir borrando las escenas dobladas del conjunto de escenas a doblar. En cada nueva etapa (dia de doblaje) se recalcula desde cero para la nueva situación, una vez eliminadas las escenas ya dobladas de las escenas a doblar, hasta que para el ultimo dia ya solo queda una combinación posible (que seguramente será la que requerirá el máximo número de dobladores). \n",
    "\n",
    "Nótese que en una sesion, no importa el orden de las escenas a efectos de su coste. Comienza con la escena pendiente de menor coste, y va escalando, lo cual es óptimo a nivel de etapa. \n",
    "\n",
    "El coste total del doblaje será la suma de los costes de cada dia.\n",
    "\n",
    "Es posible que no sea la mejor solución posible, o que, aun siéndolo, no se pueda demostrar. Pero es abordable y seguro rebaja el coste total por debajo de las 50 um que costarían los diez dobladores durante los cinco dias. (En este caso, lo rebaja a 29 para sesiones de seis escenas).\n"
   ]
  },
  {
   "cell_type": "code",
   "execution_count": 2,
   "id": "9ffa57cd",
   "metadata": {},
   "outputs": [],
   "source": [
    "#IMPORTACIONES\n",
    "import os\n",
    "import pandas as pd\n",
    "import numpy as np\n",
    "import itertools\n",
    "from os import path\n",
    "import csv\n",
    "import random"
   ]
  },
  {
   "cell_type": "code",
   "execution_count": 3,
   "id": "fad19fbd",
   "metadata": {},
   "outputs": [],
   "source": [
    "# ASIGNACION DE PARÁMETROS\n",
    "verbose_all=False   # True si queremos visualizar información para ir viendo TODOS los procesos\n",
    "                    # Ésto es muy útil en fase de debug. En producción es recomendable no usarlo."
   ]
  },
  {
   "cell_type": "code",
   "execution_count": 4,
   "id": "4b467f83",
   "metadata": {},
   "outputs": [],
   "source": [
    "# ESTABLECIMIENTO DEL PATH DEL FICHERO A TRATAR\n",
    "verbose = False\n",
    "dob_path = path.join('','Datos.csv')\n",
    "#Comprobación: \n",
    "if (verbose_all or verbose): print(dob_path) #da como resultado: Datos.csv"
   ]
  },
  {
   "cell_type": "code",
   "execution_count": 5,
   "id": "47191214",
   "metadata": {},
   "outputs": [],
   "source": [
    "#CARGA Y PROSPECCIÓN OPCIONAL DEL FICHERO\n",
    "verbose = False\n",
    "dob_raw = pd.read_csv(dob_path,sep=',')\n",
    "if (verbose_all or verbose):\n",
    "    display(dob_raw.shape)\n",
    "    #son 33 filas y 13 columnas\n",
    "    display(dob_raw.info())\n",
    "    #DESCRIPCION ESTADISTICA\n",
    "    #display(dob_raw.describe(include='all'))\n",
    "    print(dob_raw.head())"
   ]
  },
  {
   "cell_type": "raw",
   "id": "80299a5d",
   "metadata": {},
   "source": [
    "Aspecto del fichero original: \n",
    "\n",
    "Columnas: 14, de la 1 a la 13 que son: \n",
    "\n",
    "XX: Indice de la fila\n",
    "00: Toma\n",
    "01..11: Actor 1..10\n",
    "12: NaNs\n",
    "13: Coste de la toma\n",
    "\n",
    "Filas: 1 a 34 que son:\n",
    "XX, 0:Leyenda\n",
    "1..30: 30 filas operativas\n",
    "31: Fila en blanco\n",
    "32: Total de tomas por cada actor\n",
    "\n"
   ]
  },
  {
   "cell_type": "code",
   "execution_count": 6,
   "id": "c3714e63",
   "metadata": {
    "scrolled": true
   },
   "outputs": [
    {
     "name": "stdout",
     "output_type": "stream",
     "text": [
      "RangeIndex(start=0, stop=13, step=1)\n"
     ]
    }
   ],
   "source": [
    "# Apertura del csv, preprocesado y paso de los datos útiles a una matriz    \n",
    "#Nótese que el csv está mal formateado, así que elimino la primera fila para que no de problemas:\n",
    "verbose = False\n",
    "df = pd.read_csv(\"Datos.csv\",  sep=',').values\n",
    "df = pd.DataFrame(df)\n",
    "if (verbose_all or verbose): print(df)\n",
    "print(df.columns)\n",
    "#eliminamos la columna de NaNs, que, por inspección es la 11\n",
    "del(df[11])\n",
    "if (verbose_all or verbose):\n",
    "    print(\"Sin NaN:\")\n",
    "    print(df)\n",
    "#eliminamos las filas del final\n",
    "df = df.drop([31,32], axis=0)\n",
    "if (verbose_all or verbose):\n",
    "    print(\"Sin las filas del final:\")\n",
    "    print(df)\n",
    "# Pasamos a numpy\n",
    "dfn=df.to_numpy()\n"
   ]
  },
  {
   "cell_type": "code",
   "execution_count": 7,
   "id": "cdaf1fcd",
   "metadata": {},
   "outputs": [
    {
     "name": "stdout",
     "output_type": "stream",
     "text": [
      "Introduzca 1 para fichero csv, 2 para datos aleatorios1\n",
      "[['Toma' 1.0 2.0 3.0 4.0 5.0 6.0 7.0 8.0 9.0 10.0 'Total']\n",
      " ['1' 1.0 1.0 1.0 1.0 1.0 0.0 0.0 0.0 0.0 0.0 '5']\n",
      " ['2' 0.0 0.0 1.0 1.0 1.0 0.0 0.0 0.0 0.0 0.0 '3']\n",
      " ['3' 0.0 1.0 0.0 0.0 1.0 0.0 1.0 0.0 0.0 0.0 '3']\n",
      " ['4' 1.0 1.0 0.0 0.0 0.0 0.0 1.0 1.0 0.0 0.0 '4']\n",
      " ['5' 0.0 1.0 0.0 1.0 0.0 0.0 0.0 1.0 0.0 0.0 '3']\n",
      " ['6' 1.0 1.0 0.0 1.0 1.0 0.0 0.0 0.0 0.0 0.0 '4']\n",
      " ['7' 1.0 1.0 0.0 1.0 1.0 0.0 0.0 0.0 0.0 0.0 '4']\n",
      " ['8' 1.0 1.0 0.0 0.0 0.0 1.0 0.0 0.0 0.0 0.0 '3']\n",
      " ['9' 1.0 1.0 0.0 1.0 0.0 0.0 0.0 0.0 0.0 0.0 '3']\n",
      " ['10' 1.0 1.0 0.0 0.0 0.0 1.0 0.0 0.0 1.0 0.0 '4']\n",
      " ['11' 1.0 1.0 1.0 0.0 1.0 0.0 0.0 1.0 0.0 0.0 '5']\n",
      " ['12' 1.0 1.0 1.0 1.0 0.0 1.0 0.0 0.0 0.0 0.0 '5']\n",
      " ['13' 1.0 0.0 0.0 1.0 1.0 0.0 0.0 0.0 0.0 0.0 '3']\n",
      " ['14' 1.0 0.0 1.0 0.0 0.0 1.0 0.0 0.0 0.0 0.0 '3']\n",
      " ['15' 1.0 1.0 0.0 0.0 0.0 0.0 1.0 0.0 0.0 0.0 '3']\n",
      " ['16' 0.0 0.0 0.0 1.0 0.0 0.0 0.0 0.0 0.0 1.0 '2']\n",
      " ['17' 1.0 0.0 1.0 0.0 0.0 0.0 0.0 0.0 0.0 0.0 '2']\n",
      " ['18' 0.0 0.0 1.0 0.0 0.0 1.0 0.0 0.0 0.0 0.0 '2']\n",
      " ['19' 1.0 0.0 1.0 0.0 0.0 0.0 0.0 0.0 0.0 0.0 '2']\n",
      " ['20' 1.0 0.0 1.0 1.0 1.0 0.0 0.0 0.0 0.0 0.0 '4']\n",
      " ['21' 0.0 0.0 0.0 0.0 0.0 1.0 0.0 1.0 0.0 0.0 '2']\n",
      " ['22' 1.0 1.0 1.0 1.0 0.0 0.0 0.0 0.0 0.0 0.0 '4']\n",
      " ['23' 1.0 0.0 1.0 0.0 0.0 0.0 0.0 0.0 0.0 0.0 '2']\n",
      " ['24' 0.0 0.0 1.0 0.0 0.0 1.0 0.0 0.0 0.0 0.0 '2']\n",
      " ['25' 1.0 1.0 0.0 1.0 0.0 0.0 0.0 0.0 0.0 1.0 '4']\n",
      " ['26' 1.0 0.0 1.0 0.0 1.0 0.0 0.0 0.0 1.0 0.0 '4']\n",
      " ['27' 0.0 0.0 0.0 1.0 1.0 0.0 0.0 0.0 0.0 0.0 '2']\n",
      " ['28' 1.0 0.0 0.0 1.0 0.0 0.0 0.0 0.0 0.0 0.0 '2']\n",
      " ['29' 1.0 0.0 0.0 0.0 1.0 1.0 0.0 0.0 0.0 0.0 '3']\n",
      " ['30' 1.0 0.0 0.0 1.0 0.0 0.0 0.0 0.0 0.0 0.0 '2']]\n"
     ]
    },
    {
     "data": {
      "text/plain": [
       "(31, 12)"
      ]
     },
     "metadata": {},
     "output_type": "display_data"
    },
    {
     "name": "stdout",
     "output_type": "stream",
     "text": [
      "Número de escenas a doblar: 30\n",
      "Número de actores: 10\n",
      "Escenas a doblar: [ 1  2  3  4  5  6  7  8  9 10 11 12 13 14 15 16 17 18 19 20 21 22 23 24\n",
      " 25 26 27 28 29 30]\n"
     ]
    }
   ],
   "source": [
    "# INTRO DATOS\n",
    "# Aqui cargamos la matriz, bien sea la inmediatamente obtenida desde el fichero del enunciado\n",
    "# o bien la generada aleatoriamente en un apartado posterior de esta actividad:\n",
    "verbose=True\n",
    "\n",
    "if int(input(\"Introduzca 1 para fichero csv, 2 para datos aleatorios\"))>1:\n",
    "    # Genero una matriz de numero de filas y de columnas aleatorio con participación aleatoria de los dobladores, \n",
    "    # a semejanza de la matriz que provenía del fichero csv\n",
    "    MAXF=40\n",
    "    MAXC=15\n",
    "    max_filas=random.randint(2,MAXF)\n",
    "    max_columnas=random.randint(3,MAXC)\n",
    "    #genero una matriz a semejanza de la proporcionada en el enunciado, pero con datos aleatorios\n",
    "    aleatoria = np.zeros((max_filas+1,max_columnas+2))\n",
    "    for fila in range(1,max_filas+1):\n",
    "        aleatoria[fila,0]=str(fila)\n",
    "        for columna in range(1,max_columnas+1):\n",
    "            aleatoria[fila,columna]=random.randint(0,1)\n",
    "        aleatoria[fila,max_columnas+1]=str(np.sum(aleatoria[fila,1:max_columnas]))\n",
    "    dfn=aleatoria\n",
    "    \n",
    "if (verbose_all or verbose):\n",
    "    print(dfn)\n",
    "    display(dfn.shape)\n",
    "# Nótese que en dfn podemos extraer cualquier item llamándolo por escena,actor, de 1 a 30 y de 1 a 10 respectivamente\n",
    "# siendo la columna cero el string \"numero de escena\" y la columna 11 el string coste de esa escena\n",
    "# p.ej, si queremos el coste de la escena 29, coste = 3\n",
    "# print(int(dfn[29][11]))\n",
    "# El número de escenas a doblar será \n",
    "num_esc = dfn.shape[0] -1\n",
    "num_act = dfn.shape[1] -2\n",
    "todas_las_escenas=np.arange(1,num_esc +1)\n",
    "escenas_por_doblar=todas_las_escenas\n",
    "if (verbose_all or verbose):\n",
    "    print(\"Número de escenas a doblar:\", num_esc)\n",
    "    print(\"Número de actores:\", num_act)\n",
    "    print(\"Escenas a doblar:\", escenas_por_doblar)"
   ]
  },
  {
   "cell_type": "code",
   "execution_count": 8,
   "id": "957c2a54",
   "metadata": {},
   "outputs": [],
   "source": [
    "def coste_camino(camino):\n",
    "    \"\"\" \n",
    "    INPUT: un np.array camino, que contiene las escenas a rodar (no hace falta que esten en orden o que no se repitan)\n",
    "    OUTPUT: int que da el numero total de actores diferentes involucrados en ese camino (p.ej.: en esa sesion)\n",
    "    PREREQUISITO: camino debe contener al menos una escena. Requisito controlado en código.\n",
    "    EJEMPLO: coste_camino([1,7,31,22,2]) da como resultado 5. Son necesarios 5 dobladores diferentes para esa secuencia.\n",
    "    OBSERVACIONES:\n",
    "    La idea es, para un cierto camino, ver cual es el coste_total\n",
    "    Este camino puede ser una sola escena (=coste de la escena), entre dos escenas, o el formado por todas las que se quiera,\n",
    "    Ojo: No es lo mismo que la suma acumulada de coste_escena, sino el total de actores diferentes empleados en ese camino\n",
    "    IMPLEMENTACION:\n",
    "    \"\"\"\n",
    "    \n",
    "    verbose = False\n",
    "    if(len(camino) >= 1):\n",
    "        array_temp=np.zeros(num_act) # hacemos un array de, en este caso, diez ceros\n",
    "        #if (verbose_all or verbose):\n",
    "            #print(\"Actores:\",array_temp)\n",
    "            #print(\"Empezamos a sumar\")\n",
    "        for salto in range(0,len(camino)):\n",
    "            if (verbose_all or verbose): print(\"Escena: \", camino[salto])\n",
    "            for i in range(1,num_act+1): #para todos los actores posibles\n",
    "                if (verbose_all or verbose):\n",
    "                    print(\"Actor: \",i, \"  \", int(array_temp[i-1]), \"  \", int(dfn[camino[salto]][i]))\n",
    "                if (int(array_temp[i-1]) <= int(dfn[camino[salto]][i])):\n",
    "                    array_temp[i-1] = int(dfn[camino[salto]][i])\n",
    "        if (verbose_all or verbose):\n",
    "            print(array_temp)\n",
    "        return(int(sum(array_temp[:num_act+1])))\n",
    "    else:\n",
    "        print(\"ERROR FATAL en funcion coste_camino: El camino debe tener al menos una escena\")\n",
    "# FIN IMPLEMENTACION funcion coste_camino"
   ]
  },
  {
   "cell_type": "code",
   "execution_count": 9,
   "id": "ffd08a4c",
   "metadata": {},
   "outputs": [],
   "source": [
    "def elimina_escenas(array_1,array_2):\n",
    "    \"\"\" \n",
    "    FUNCION: Elimina de un array los contenidos que se encuentran en otro array    \n",
    "    INPUT: dos np.arrays que contienen las escenas a doblar pre-doblaje y las que se han doblado en el dia\n",
    "    OUTPUT: np.array que contiene las escenas post-doblaje (las que quedan para el siguiente dia)\n",
    "    PREREQUISITOS: Importaciones,  \n",
    "    EJEMPLO: print(elimina_escenas([1,2,3,4,5,6,7,8,9,10,11,12],[1,3,5,7])) = [ 2  4  6  8  9 10 11 12]\n",
    "    OBSERVACIONES: Comparación de contenidos por recorrido de índices\n",
    "    IMPLEMENTACION:\n",
    "    \"\"\"\n",
    "\n",
    "    verbose = False\n",
    "    for index_2 in range(0,len(array_2)):\n",
    "        for index_1 in range (0,len(array_1)):\n",
    "            if array_1[index_1] == array_2[index_2]:\n",
    "                array_1=np.delete(array_1,index_1)\n",
    "                break\n",
    "    if (verbose_all or verbose): print(array_1)\n",
    "    return(array_1)\n",
    "# FIN IMPLEMENTACION funcion elimina_escenas"
   ]
  },
  {
   "cell_type": "code",
   "execution_count": 10,
   "id": "c90bbb9c",
   "metadata": {
    "scrolled": true
   },
   "outputs": [
    {
     "name": "stdout",
     "output_type": "stream",
     "text": [
      "Kernel trabajando. Por favor, espere hasta mensaje expreso de finalización. \n",
      "\n",
      "Plan optimizado de doblaje. Número de escenas: 30 Número de dobladores: 10 Escenas/dia: 6 \n",
      "\n",
      "Dia 1 :\n",
      "Escenas: (14, 17, 18, 19, 23, 24)  Coste dia: 3  Coste total: 3\n",
      "Quedan por hacer [ 1  2  3  4  5  6  7  8  9 10 11 12 13 15 16 20 21 22 25 26 27 28 29 30] \n",
      "\n",
      "Dia 2 :\n",
      "Escenas: (2, 13, 20, 27, 28, 30)  Coste dia: 4  Coste total: 7\n",
      "Quedan por hacer [ 1  3  4  5  6  7  8  9 10 11 12 15 16 21 22 25 26 29] \n",
      "\n",
      "Dia 3 :\n",
      "Escenas: (1, 3, 6, 7, 9, 15)  Coste dia: 6  Coste total: 13\n",
      "Quedan por hacer [ 4  5  8 10 11 12 16 21 22 25 26 29] \n",
      "\n",
      "Dia 4 :\n",
      "Escenas: (4, 5, 8, 12, 21, 22)  Coste dia: 7  Coste total: 20\n",
      "Quedan por hacer [10 11 16 25 26 29] \n",
      "\n",
      "Dia 5 :\n",
      "Escenas: (10, 11, 16, 25, 26, 29)  Coste dia: 9  Coste total: 29\n",
      "Quedan por hacer [] \n",
      "\n",
      "Coste total del doblaje:  29 \n",
      "\n",
      "Proceso completado\n"
     ]
    }
   ],
   "source": [
    "\"\"\" \n",
    "MAIN: Cuerpo principal del programa\n",
    "OBJETIVO: Calcular mínimo coste de doblaje\n",
    "INPUT: array escenas a doblar, Número de escenas por dia\n",
    "OUTPUT: Para cada dia de doblaje, secuencia a doblar, coste de ese dia, secuencia pendiente de doblar.\n",
    "        Coste total\n",
    "PREREQUISITO: \n",
    "EJEMPLO: \n",
    "Plan optimizado de doblaje para las escenas: \n",
    " [ 1  2  3  4  5  6  7  8  9 10 11 12 13 14 15 16 17 18 19 20 21 22 23 24\n",
    " 25 26 27 28 29 30]\n",
    "Dia 1 :\n",
    "Escenas: (14, 17, 18, 19, 23, 24)  Coste dia: 3  Coste total: 3\n",
    "Quedan por hacer [ 1  2  3  4  5  6  7  8  9 10 11 12 13 15 16 20 21 22 25 26 27 28 29 30] \n",
    "\n",
    "Dia 2 :\n",
    "Escenas: (2, 13, 20, 27, 28, 30)  Coste dia: 4  Coste total: 7\n",
    "Quedan por hacer [ 1  3  4  5  6  7  8  9 10 11 12 15 16 21 22 25 26 29] \n",
    "\n",
    "Dia 3 :\n",
    "Escenas: (1, 3, 6, 7, 9, 15)  Coste dia: 6  Coste total: 13\n",
    "Quedan por hacer [ 4  5  8 10 11 12 16 21 22 25 26 29] \n",
    "\n",
    "Dia 4 :\n",
    "Escenas: (4, 5, 8, 12, 21, 22)  Coste dia: 7  Coste total: 20\n",
    "Quedan por hacer [10 11 16 25 26 29] \n",
    "\n",
    "Dia 5 :\n",
    "Escenas: (10, 11, 16, 25, 26, 29)  Coste dia: 9  Coste total: 29\n",
    "Quedan por hacer [] \n",
    "\n",
    "Coste total del doblaje:  29\n",
    "Proceso completado\n",
    "OBSERVACIONES: \n",
    "IMPLEMENTACION:\n",
    "\"\"\"\n",
    "\n",
    "verbose = False\n",
    "coste_total=0\n",
    "max_esc_dia=6\n",
    "print(\"Kernel trabajando. Por favor, espere hasta mensaje expreso de finalización. \\n\")\n",
    "#print(\"Plan optimizado de doblaje para las escenas: \\n\", escenas_por_doblar, \"\\n\")\n",
    "print(\"Plan optimizado de doblaje. Número de escenas:\", str(num_esc), \"Número de dobladores:\", str(num_act),\"Escenas/dia:\",str(max_esc_dia),\"\\n\")\n",
    "for dia in range(1,int(num_esc/max_esc_dia)+1): # range 1 a 6 (5 dias)\n",
    "    print(\"Dia\", dia,\":\")\n",
    "    posibles_sesiones=list(itertools.combinations(escenas_por_doblar, max_esc_dia))\n",
    "    if (verbose_all or verbose): print(\"Posibles sesiones:\"+posibles_sesiones)\n",
    "    min_coste_dia=99999999\n",
    "    for sesion in posibles_sesiones:\n",
    "        coste_sesion=coste_camino(sesion)\n",
    "        if coste_sesion < min_coste_dia:\n",
    "            min_coste_dia = coste_sesion\n",
    "            ganadora = sesion\n",
    "        if (verbose_all or verbose): print(str(sesion) + \"   \" + str(coste_camino(sesion)))\n",
    "    coste_total = coste_total + min_coste_dia\n",
    "    print(\"Escenas:\", ganadora, \" Coste dia:\", min_coste_dia, \" Coste total:\", coste_total)  \n",
    "    #print(\"Actores:\", convocados(ganadora, cuadrante))\n",
    "    # Dia 1:\n",
    "    # Escenas: (14, 17, 18, 19, 23, 24) Coste dia: 3 Costre total: 3\n",
    "    # ahora modificamos la lista de escenas_por_doblar, eliminando las ya dobladas, que son las de la sesion ganadora\n",
    "    escenas_por_doblar=elimina_escenas(escenas_por_doblar,ganadora)\n",
    "    print (\"Quedan por hacer\", escenas_por_doblar, \"\\n\") \n",
    "if len(escenas_por_doblar)>=1:\n",
    "    print(\"Dia\", dia+1,\" Escenas:\", escenas_por_doblar, \" Coste dia:\", coste_camino(escenas_por_doblar),\"\\n\")\n",
    "    coste_total += coste_camino(escenas_por_doblar)\n",
    "print(\"Coste total del doblaje: \",coste_total,\"\\n\")\n",
    "print(\"Proceso completado\")\n"
   ]
  },
  {
   "cell_type": "markdown",
   "id": "4fc9dd5c",
   "metadata": {},
   "source": [
    "## Argumenta por que crees que mejora el algoritmo por fuerza bruta\n",
    "\n",
    "Indudablemente lo mejora en tiempo, porque se basa en etapas con número de combinaciones mucho más pequeñas, pero no lo mejora en cuanto a la certidumbre de encontrar la mejor solución. Es un algoritmo voraz y aunque se base en optimizar cada etapa, no es descartable que pueda existir una solución mejor. "
   ]
  },
  {
   "cell_type": "markdown",
   "id": "6e5830fe",
   "metadata": {},
   "source": [
    "## (*)Calcula la complejidad del algoritmo "
   ]
  },
  {
   "cell_type": "markdown",
   "id": "141d0142",
   "metadata": {},
   "source": [
    "Estimo que vendría a ser equivalente a la del método de Prim (Prim añade nodos sabiendo que llegamos a ellos con menor coste).\n",
    "Como tomamos escenas de 6 en 6, para cada etapa serán 6 nodos (escenas) y 6*(6-1)=30 posibles aristas\n",
    "Es decir, para cada etapa es = O(escenas_etapa^2) = O(6^2) "
   ]
  },
  {
   "cell_type": "markdown",
   "id": "0bf4a802",
   "metadata": {},
   "source": [
    "## Según el problema (y tenga sentido), diseña un juego de datos de entrada aleatorios\n",
    "## Aplica el algoritmo al juego de datos generado"
   ]
  },
  {
   "cell_type": "markdown",
   "id": "34b9776a",
   "metadata": {},
   "source": [
    "Esto es volver a ejecutar el programa con un nuevo conjunto de datos, aleatorios.\n",
    "\n",
    "Nótese que, en código ya mostrado, se ha implementado poder seleccionar entre los datos del fichero csv o datos generados aleatoriamente.\n",
    "\n",
    "Para volver a ejecutar el programa, reiniciar el Kernel y ejecutar.\n"
   ]
  },
  {
   "cell_type": "markdown",
   "id": "176dc5ba",
   "metadata": {},
   "source": [
    "A continuación, resultado de ejecutar de nuevo el programa, en este caso para datos aleatorios. \n",
    "\n",
    "Kernel trabajando. Por favor, espere hasta mensaje expreso de finalización. \n",
    "\n",
    "Plan optimizado de doblaje. Número de escenas: 31 Número de dobladores: 15 Escenas/dia: 6\n",
    "\n",
    "Dia 1 :\n",
    "Escenas: (1, 2, 12, 13, 19, 28)  Coste dia: 11  Coste total: 11\n",
    "Quedan por hacer [ 3  4  5  6  7  8  9 10 11 14 15 16 17 18 20 21 22 23 24 25 26 27 29 30\n",
    " 31] \n",
    "\n",
    "Dia 2 :\n",
    "Escenas: (3, 11, 20, 22, 23, 31)  Coste dia: 11  Coste total: 22\n",
    "Quedan por hacer [ 4  5  6  7  8  9 10 14 15 16 17 18 21 24 25 26 27 29 30] \n",
    "\n",
    "Dia 3 :\n",
    "Escenas: (4, 5, 7, 14, 17, 26)  Coste dia: 12  Coste total: 34\n",
    "Quedan por hacer [ 6  8  9 10 15 16 18 21 24 25 27 29 30] \n",
    "\n",
    "Dia 4 :\n",
    "Escenas: (6, 8, 9, 15, 27, 30)  Coste dia: 13  Coste total: 47\n",
    "Quedan por hacer [10 16 18 21 24 25 29] \n",
    "\n",
    "Dia 5 :\n",
    "Escenas: (10, 16, 18, 21, 24, 25)  Coste dia: 15  Coste total: 62\n",
    "Quedan por hacer [29] \n",
    "\n",
    "Dia 6 :\n",
    "Escenas: [29]  Coste dia: 8 \n",
    "\n",
    "Coste total del doblaje:  70 \n",
    "\n",
    "Proceso completado"
   ]
  },
  {
   "cell_type": "markdown",
   "id": "a99e8072",
   "metadata": {},
   "source": [
    "## Enumera las referencias que has utilizado(si ha sido necesario) para llevar a cabo el trabajo"
   ]
  },
  {
   "cell_type": "markdown",
   "id": "a6e129ed",
   "metadata": {},
   "source": [
    "He realizado este trabajo \"from scratch\" (desde cero), tan solo con los conocimientos adquiridos en la asignatura (y, por cierto, siendo además, principiante en Python), buscando intuitivamente la forma de crear un algoritmo apropiado.\n",
    "\n",
    "Sin embargo, sí que he intentado recabar más información sobre el tema, habiendo encontrado, ya diseñado mi algoritmo, dos referencias interesantes. Lamentablemente, no directamente aplicables. Son:\n",
    "\n",
    "Optimization in dubbing scheduling.\n",
    "N. R. Brisaboa (1), A. Cerdeira-Pena (1), L. Carpente (2), S. Lorenzo-Freire (2)\n",
    "(1) Database Laboratory, Department of Computer Science, Faculty of Computer Science, University of A Coruña, A Coruña, Spain\n",
    "(2) MODES Research Group, Department of Mathematics, Faculty of Computer Science, University of A Coruña, 15071 A Coruña, Spain \n",
    "DOI 10.1007/s11750-015-0361-4, \n",
    "Published online: 14 February 2015 © Sociedad de Estadística e Investigación Operativa 2015\n",
    "\n",
    "y:\n",
    "\n",
    "Aplicación de algoritmos heurísticos para optimizar el coste de doblaje de películas\n",
    "Proyecto de Investigación, Proyecto fin de máster, Máster en técnicas estadísticas.\n",
    "Universidade da Coruña, Universidade de Santiago de Compostela, UniversidadeVigo.\n",
    "Autor: Alberto Caldas Lima\n",
    "Directores: Silvia María Lorenzo Freire, María Luisa Carpente Rodríguez\n",
    "A Coruña, a 4 de septiembre de 2014\n",
    "En este Trabajo Final de Master, a partir del estudio anterior, se aborda una solución óptima, realizada en C#, al problema del doblaje para las necesidades de optimización de un estudio de doblaje real, cuya propiedad está relacionada con su autor. La solución contempla todos los factores posibles (incluyendo p.ej.: multi-doblaje simultáneo de varias películas, subdivisión de un take, etc). Es una solución \"definitiva\" para cualquier casuística que se pueda dar en unos estudios de doblaje, ya que se aborda desde una variante determinista y si esta falla, otra heurística, utilizando una combinación de Algoritmos Genéticos, Recocido Simulado y Búsqueda Tabú, analizando y comparando su aplicabilidad y resultados. \n",
    "\n",
    "Pese a que no ha tenido aplicabilidad directa en mi solución, lo comento porque creo que serían un buen referente teórico y de ejemplificación para la asignatura.\n"
   ]
  },
  {
   "cell_type": "markdown",
   "id": "b5b044b8",
   "metadata": {},
   "source": [
    "## Describe brevemente las lineas de como crees que es posible avanzar en el estudio del problema. Ten en cuenta incluso posibles variaciones del problema y/o variaciones al alza del tamaño"
   ]
  },
  {
   "cell_type": "markdown",
   "id": "e91e93d2",
   "metadata": {},
   "source": [
    "Con mi solución, se obtienen resultados optimizados por tramos iguales al máximo de escenas por dia. Pero:\n",
    "\n",
    "a) Aun con un numero fijo maximo de escenas, se podría jugar con el número. Así, para el fichero csv: \n",
    "\n",
    "Para max 2 al dia, sale por 59 en 15 dias \n",
    "(17, 19)(18, 24)(28, 30)(2, 27)(14, 23)(3, 15)(5, 9)(6, 7)(8, 10)(13, 16)(21, 29)(1, 20)(12, 22)(4, 11)(25, 26)\n",
    "\n",
    "Para max 3 al dia, sale por 44 en 10 dias\n",
    "(17, 19, 23)(9, 28, 30)(14, 18, 24)(2, 13, 20)(6, 7, 27)(3, 4, 15)(5, 8, 21)(16, 22, 25)(1, 12, 29)(10, 11, 26)\n",
    "\n",
    "Para max 4 al dia, sale por 40 en 8 dias:\n",
    "(13, 27, 28, 30)(14, 17, 18, 19)(1, 2, 6, 7)(3, 8, 15, 29)(5, 9, 16, 25)(12, 22, 23, 24)(10, 11, 21, 26)(4, 20)\n",
    "\n",
    "Para max 5 al dia, sale por 32 en 6 dias:\n",
    "(14, 17, 18, 19, 23)(2, 13, 20, 27, 28)(1, 6, 7, 9, 22)(3, 4, 5, 15, 30)(8, 10, 24, 26, 29)(11, 12, 16, 21, 25)\n",
    "\n",
    "Para max 6 al dia, sale por 29 en 5 dias:\n",
    "(14, 17, 18, 19, 23, 24)(2, 13, 20, 27, 28, 30)(1, 3, 6, 7, 9, 15)(4, 5, 8, 12, 21, 22)(10, 11, 16, 25, 26, 29)\n",
    "\n",
    "Para max 7 al dia, sale por 24 en 4 dias:\n",
    "(2, 13, 17, 19, 20, 23, 27)(1, 6, 7, 9, 22, 28, 30)(3, 8, 14, 15, 18, 24, 29)(4, 5, 10, 11, 12, 21, 26)(16, 25)\n",
    "\n",
    "Para max 8 al dia, sale por 16 en 4 dias:\n",
    "(2, 13, 17, 19, 20, 23, 27, 28)(8, 9, 12, 14, 18, 22, 24, 30)(1, 3, 4, 5, 6, 7, 11, 15)(10, 16, 21, 25, 26, 29) \n",
    "\n",
    "\n",
    "Vemos que el algoritmo:\n",
    "a) Funciona por etapas del número maximo de takes por dia\n",
    "b) que evalúa y consigue minimo coste en cada etapa, \n",
    "c) que cada etapa depende de la anterior,\n",
    "\n",
    "Así, resulta más ventajoso hacer 8 que 7, o que 6 escenas por dia, tanto en coste como en ocupacion de estudio, para el caso propuesto en la actividad.\n",
    "\n",
    "b) Sin embargo, quizá sea posible encontrar una solución aun menos costosa haciendo para cada dia un número de escenas no fijo sino variable. Por ejemplo, si para un mismo dia, el conjunto de dobladores necesarios en las escenas a,b, y c,d,e,f de ese dia fueran disjuntos, y en cambio los de c,d,e,f tuvieran algun/os dobladores en común con las siguientes escenas en coste diferencial, parece razonable subdividir el primer dia en dos, quedando a,b como primer dia, y el siguiente recalcular de la misma forma, etc. Es una linea que quería desarrollar, pero no ha sido posible por falta de tiempo.\n"
   ]
  },
  {
   "cell_type": "code",
   "execution_count": null,
   "id": "1c68d3f9",
   "metadata": {},
   "outputs": [],
   "source": []
  }
 ],
 "metadata": {
  "kernelspec": {
   "display_name": "Python 3",
   "language": "python",
   "name": "python3"
  },
  "language_info": {
   "codemirror_mode": {
    "name": "ipython",
    "version": 3
   },
   "file_extension": ".py",
   "mimetype": "text/x-python",
   "name": "python",
   "nbconvert_exporter": "python",
   "pygments_lexer": "ipython3",
   "version": "3.8.8"
  }
 },
 "nbformat": 4,
 "nbformat_minor": 5
}
