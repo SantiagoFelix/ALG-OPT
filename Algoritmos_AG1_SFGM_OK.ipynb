{
  "nbformat": 4,
  "nbformat_minor": 0,
  "metadata": {
    "colab": {
      "name": "Algoritmos_AG1_SFGM.ipynb",
      "provenance": [],
      "collapsed_sections": [],
      "toc_visible": true,
      "include_colab_link": true
    },
    "kernelspec": {
      "display_name": "Python 3",
      "language": "python",
      "name": "python3"
    },
    "language_info": {
      "codemirror_mode": {
        "name": "ipython",
        "version": 3
      },
      "file_extension": ".py",
      "mimetype": "text/x-python",
      "name": "python",
      "nbconvert_exporter": "python",
      "pygments_lexer": "ipython3",
      "version": "3.8.8"
    }
  },
  "cells": [
    {
      "cell_type": "markdown",
      "metadata": {
        "id": "view-in-github",
        "colab_type": "text"
      },
      "source": [
        "<a href=\"https://colab.research.google.com/github/SantiagoFelix/ALG-OPT/blob/main/Algoritmos_AG1_SFGM_OK.ipynb\" target=\"_parent\"><img src=\"https://colab.research.google.com/assets/colab-badge.svg\" alt=\"Open In Colab\"/></a>"
      ]
    },
    {
      "cell_type": "markdown",
      "metadata": {
        "id": "ZVtpiRRLNQw4"
      },
      "source": [
        "# Actividad Guiada 1 de Algoritmos de Optimizacion"
      ]
    },
    {
      "cell_type": "markdown",
      "metadata": {
        "id": "GG2D6vLdYwwy"
      },
      "source": [
        "\n",
        "\n",
        "Nombre: Santiago Félix García Marín\n",
        "\n",
        "https://colab.research.google.com/drive/1JwHXurK4uUQSw8q3aFWCJbUS00SjOdXe?usp=sharing\n",
        "\n",
        "https://github.com/mi_usuario/03MAIR---Algoritmos-de-Optimizacion"
      ]
    },
    {
      "cell_type": "markdown",
      "metadata": {
        "id": "XdqOit38Neiz"
      },
      "source": [
        "##Torres de Hanoi"
      ]
    },
    {
      "cell_type": "code",
      "metadata": {
        "id": "D0xVmaZQb4cH"
      },
      "source": [
        "#Torres de Hanoi - Divide y venceras\n",
        "################################################################################\n",
        "\n",
        "\n",
        "################################################################\n",
        "def Torres_Hanoi(N, desde, hasta):\n",
        "# N = numero de fichas\n",
        "# desde\n",
        "# hasta\n",
        "  if N==1:\n",
        "    print(\"mueve desde \", str(desde), \" hasta \", str(hasta))\n",
        "  else:\n",
        "    Torres_Hanoi(N-1, desde, 6-desde-hasta)\n",
        "    print(\"mueve desde \", str(desde), \" hasta \", str(hasta))\n",
        "    Torres_Hanoi(N-1, 6-desde-hasta, hasta)\n",
        "# Peros: Gran cantidad de operaciones.\n",
        "# T(1)=1; T(n)= 1 + 2T(N-1) = 1 + 2(1 + 2T(n-2)) = 1 + 2 + 2^2 + ... + 2T(0) = 2^n -1\n",
        "# Complejidad = O(2^n)"
      ],
      "execution_count": null,
      "outputs": []
    },
    {
      "cell_type": "code",
      "metadata": {
        "colab": {
          "base_uri": "https://localhost:8080/"
        },
        "id": "yf13uhVhcFy6",
        "outputId": "39e5e57c-8c2f-4677-95e5-a093e2658863"
      },
      "source": [
        "Torres_Hanoi(3,1,3)"
      ],
      "execution_count": null,
      "outputs": [
        {
          "output_type": "stream",
          "text": [
            "mueve desde  1  hasta  3\n",
            "mueve desde  1  hasta  2\n",
            "mueve desde  3  hasta  2\n",
            "mueve desde  1  hasta  3\n",
            "mueve desde  2  hasta  1\n",
            "mueve desde  2  hasta  3\n",
            "mueve desde  1  hasta  3\n"
          ],
          "name": "stdout"
        }
      ]
    },
    {
      "cell_type": "markdown",
      "metadata": {
        "id": "o89bbcHfNjvu"
      },
      "source": [
        "##Cambio de monedas - Técnica voraz"
      ]
    },
    {
      "cell_type": "code",
      "metadata": {
        "id": "YwBudj2hYoMR"
      },
      "source": [
        "#Cambio de monedas - Técnica voraz\n",
        "################################################################################\n",
        "\n",
        "################################################################\n",
        "def cambio_monedas(CANTIDAD,SISTEMA):\n",
        "#....print(SISTEMA)\n",
        "  VALOR_ACUMULADO = 0\n",
        "  SOLUCION = [0 for i in range(len(SISTEMA))] #[0,0,0,0]\n",
        "  # [0]*len(SISTEMA) también valdría, o también (chat de clase)\n",
        "  # import numpy as np\n",
        "  # np.zeros(len(SISTEMA), int)\n",
        "  for i in range(len(SISTEMA)):\n",
        "    #print(SISTEMA[i])\n",
        "\n",
        "    #monedas = int((CANTIDAD - VALOR_ACUMULADO) / SISTEMA[i])\n",
        "    # o bien\n",
        "    monedas = (CANTIDAD - VALOR_ACUMULADO) // SISTEMA[i]\n",
        "    #print(monedas)\n",
        "    SOLUCION[i] = monedas\n",
        "    VALOR_ACUMULADO = VALOR_ACUMULADO + SISTEMA[i]*monedas\n",
        "    if VALOR_ACUMULADO == CANTIDAD:\n",
        "      return SOLUCION\n",
        "  if VALOR_ACUMULADO != CANTIDAD:\n",
        "    print(\"No hay solucion\")\n",
        "  else:\n",
        "    return SOLUCION\n",
        "################################################################"
      ],
      "execution_count": null,
      "outputs": []
    },
    {
      "cell_type": "code",
      "metadata": {
        "id": "9toJ4WjhQUNj",
        "colab": {
          "base_uri": "https://localhost:8080/"
        },
        "outputId": "265d411f-693f-489b-fbef-07dc5162d641"
      },
      "source": [
        "SISTEMA = sorted([500, 100, 25,10,5,1], reverse=True)\n",
        "cambio_monedas(58554,SISTEMA)\n",
        "# nótese que no funciona para sistemas 11,5,1 y queremos devolver 15. \n",
        "#No es un resultado optimo. Característico de los algoritmos voraces."
      ],
      "execution_count": null,
      "outputs": [
        {
          "output_type": "execute_result",
          "data": {
            "text/plain": [
              "[117, 0, 2, 0, 0, 4]"
            ]
          },
          "metadata": {
            "tags": []
          },
          "execution_count": 31
        }
      ]
    },
    {
      "cell_type": "markdown",
      "metadata": {
        "id": "OLuPr6jeNqk_"
      },
      "source": [
        "##N reinas"
      ]
    },
    {
      "cell_type": "code",
      "metadata": {
        "id": "H4Iwt2XRZTFr",
        "colab": {
          "base_uri": "https://localhost:8080/"
        },
        "outputId": "09ae1a24-fc1f-416b-de9d-312a035e1ffc"
      },
      "source": [
        "#N Reinas - Vuelta Atrás() - Backtracking\n",
        "################################################################################\n",
        "\n",
        "#Verifica que en la solución parcial no hay amenzas entre reinas\n",
        "################################################################\n",
        "def es_prometedora(SOLUCION,etapa):\n",
        "################################################################\n",
        "# verifica que no haya dos reinas en la misma fila ni en diagonal\n",
        "  #print(SOLUCION)\n",
        "  #Si la solución tiene dos valores iguales no es valida => Dos reinas en la misma fila\n",
        "  for i in range(etapa+1):\n",
        "    #print(\"El valor \" + str(SOLUCION[i]) + \" está \" +  str(SOLUCION.count(SOLUCION[i])) + \" veces\")\n",
        "    if SOLUCION.count(SOLUCION[i]) > 1:       \n",
        "      return False\n",
        "  \n",
        "    #Verifica las diagonales\n",
        "    for j in range(i+1, etapa +1 ):\n",
        "      #print(\"Comprobando diagonal de \" + str(i) + \" y \" + str(j))\n",
        "      if abs(i-j) == abs(SOLUCION[i]-SOLUCION[j]) : return False\n",
        "  return True\n",
        "\n",
        "#Traduce la solución al tablero\n",
        "################################################################\n",
        "def escribe_solucion(S):\n",
        "################################################################\n",
        "  n = len(S)\n",
        "  for x in range(n):\n",
        "    print(\"\")\n",
        "    for i in range(n):\n",
        "      if S[i] == x+1:\n",
        "        print(\" X \" , end=\"\")\n",
        "      else:\n",
        "        print(\" - \", end=\"\")\n",
        "\n",
        "\n",
        "\n",
        "#Proceso principal de N-Reinas\n",
        "################################################################\n",
        "def reinas(N,solucion=[],etapa=0): \n",
        "################################################################\n",
        "  if len(solucion) == 0 : \n",
        "    solucion = [0 for i in range(N)]\n",
        "\n",
        "  #ponemos una reina en cada una de las filas\n",
        "  for i in range(1, N+1):\n",
        "    solucion[etapa] = i\n",
        "\n",
        "    if es_prometedora(solucion, etapa):\n",
        "      if etapa == N-1:\n",
        "        print(\"\\nLa solucion es \", solucion)\n",
        "        escribe_solucion(solucion)\n",
        "        print(\"\\n\\n\")\n",
        "      else:\n",
        "        reinas(N, solucion, etapa+1)\n",
        "    else:\n",
        "      None\n",
        "    solucion[etapa] = 0\n",
        "\n",
        "  print(solucion)\n",
        "\n",
        "reinas(4, solucion=[], etapa=0)\n"
      ],
      "execution_count": null,
      "outputs": [
        {
          "output_type": "stream",
          "text": [
            "[1, 3, 0, 0]\n",
            "[1, 4, 2, 0]\n",
            "[1, 4, 0, 0]\n",
            "[1, 0, 0, 0]\n",
            "\n",
            "La solucion es  [2, 4, 1, 3]\n",
            "\n",
            " -  -  X  - \n",
            " X  -  -  - \n",
            " -  -  -  X \n",
            " -  X  -  - \n",
            "\n",
            "\n",
            "[2, 4, 1, 0]\n",
            "[2, 4, 0, 0]\n",
            "[2, 0, 0, 0]\n",
            "\n",
            "La solucion es  [3, 1, 4, 2]\n",
            "\n",
            " -  X  -  - \n",
            " -  -  -  X \n",
            " X  -  -  - \n",
            " -  -  X  - \n",
            "\n",
            "\n",
            "[3, 1, 4, 0]\n",
            "[3, 1, 0, 0]\n",
            "[3, 0, 0, 0]\n",
            "[4, 1, 3, 0]\n",
            "[4, 1, 0, 0]\n",
            "[4, 2, 0, 0]\n",
            "[4, 0, 0, 0]\n",
            "[0, 0, 0, 0]\n"
          ],
          "name": "stdout"
        }
      ]
    },
    {
      "cell_type": "markdown",
      "metadata": {
        "id": "Ki-g7cfHN8-G"
      },
      "source": [
        "##Viaje por el río - Se postpone a AG2"
      ]
    },
    {
      "cell_type": "code",
      "metadata": {
        "colab": {
          "base_uri": "https://localhost:8080/",
          "height": 132
        },
        "id": "iPcgVSMabXrU",
        "outputId": "406c18f7-d4f8-4bb6-fca8-bfbed08b800f"
      },
      "source": [
        "#Viaje por el rio - Programación dinámica\n",
        "################################################################################\n",
        "\n",
        "TARIFAS = [\n",
        "[0,5,4,3,999,999,999],\n",
        "[999,0,999,2,3,999,11],\n",
        "[999,999, 0,1,999,4,10],\n",
        "[999,999,999, 0,5,6,9],\n",
        "[999,999, 999,999,0,999,4],\n",
        "[999,999, 999,999,999,0,3],\n",
        "[999,999,999,999,999,999,0]\n",
        "]\n",
        "\n",
        "#999 se puede sustituir por float(\"inf\")\n",
        "\n",
        "\n",
        "#Calculo de la matriz de PRECIOS y RUTAS\n",
        "################################################################  \n",
        "def Precios(TARIFAS):\n",
        "################################################################ \n",
        "#....\n",
        "\n",
        "\n",
        "\n",
        "\n",
        "\n",
        "\n",
        "PRECIOS,RUTA = Precios(TARIFAS)  \n",
        "#print(PRECIOS[0][6])\n",
        "\n",
        "print(\"PRECIOS\")\n",
        "for i in range(len(TARIFAS)):\n",
        "  print(PRECIOS[i])\n",
        "\n",
        "print(\"\\nRUTA\")  \n",
        "for i in range(len(TARIFAS)):\n",
        "  print(RUTA[i])  \n",
        "  \n",
        "#Determinar la ruta con Recursividad\n",
        "################################################################\n",
        "def calcular_ruta(RUTA, desde, hasta):\n",
        "################################################################\n",
        "  if desde == hasta:\n",
        "    #print(\"Ir a :\" + str(desde))\n",
        "    return \"\" \n",
        "  else:\n",
        "    return str(calcular_ruta( RUTA, desde, RUTA[desde][hasta])) +  \\\n",
        "                ',' + \\\n",
        "                str(RUTA[desde][hasta] \\\n",
        "              ) \n",
        "\n",
        "print(\"\\nLa ruta es:\")  \n",
        "calcular_ruta(RUTA, 0,6) "
      ],
      "execution_count": null,
      "outputs": [
        {
          "output_type": "error",
          "ename": "IndentationError",
          "evalue": "ignored",
          "traceback": [
            "\u001b[0;36m  File \u001b[0;32m\"<ipython-input-2-5b58c6ddae2e>\"\u001b[0;36m, line \u001b[0;32m28\u001b[0m\n\u001b[0;31m    PRECIOS,RUTA = Precios(TARIFAS)\u001b[0m\n\u001b[0m          ^\u001b[0m\n\u001b[0;31mIndentationError\u001b[0m\u001b[0;31m:\u001b[0m expected an indented block\n"
          ]
        }
      ]
    },
    {
      "cell_type": "code",
      "metadata": {
        "id": "TocxR55dQWq5"
      },
      "source": [
        ""
      ],
      "execution_count": null,
      "outputs": []
    }
  ]
}